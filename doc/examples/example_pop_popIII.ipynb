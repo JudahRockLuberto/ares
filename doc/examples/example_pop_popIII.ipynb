{
 "cells": [
  {
   "cell_type": "markdown",
   "id": "974580fc",
   "metadata": {},
   "source": [
    "# Including Population III Stars"
   ]
  },
  {
   "cell_type": "markdown",
   "id": "b070d90c",
   "metadata": {},
   "source": [
    "One of the generic results of using [More Realistic Galaxy Populations](example_pop_galaxy) is that they tend to produce strong late-time absorption troughs in the global 21-cm signal (this was the point of [Mirocha, Furlanetto, & Sun (2017)](http://adsabs.harvard.edu/abs/2017MNRAS.464.1365M). Our interpretation was that deviations from these predictions could indicate \"new\" source populations, like Population III stars and their remnants. Indeed, we found some evidence that such objects introduce asymmetries in the global 21-cm signal (see [Mirocha et al. 2018](http://adsabs.harvard.edu/abs/2018MNRAS.478.5591M) for details). \n",
    "\n",
    "The PopIII stars in this paper are simple, and were designed to seamlessly integrate with *ARES* while capturing the general behavior of more detailed models (e.g., [Mebane, Mirocha, \\& Furlanetto (2018)](http://adsabs.harvard.edu/abs/2018MNRAS.479.4544M>). This section will describe how to make use of these models yourself.\n",
    "\n",
    "The easiest way to tap into these models is via the `ParameterBundle` framework. To begin, the usual imports"
   ]
  },
  {
   "cell_type": "code",
   "execution_count": 1,
   "id": "4f1fa8bb",
   "metadata": {},
   "outputs": [
    {
     "name": "stdout",
     "output_type": "stream",
     "text": [
      "Populating the interactive namespace from numpy and matplotlib\n"
     ]
    }
   ],
   "source": [
    "%pylab inline\n",
    "import ares\n",
    "import numpy as np\n",
    "import matplotlib.pyplot as pl"
   ]
  },
  {
   "cell_type": "code",
   "execution_count": 2,
   "id": "85aca399",
   "metadata": {},
   "outputs": [
    {
     "name": "stdout",
     "output_type": "stream",
     "text": [
      "\n",
      "##############################################################################################################\n",
      "####                                           Parameter Bundle                                           ####\n",
      "##############################################################################################################\n",
      "#### UPDATE: Setting pop_Tmin{0}          -> None         [previously pop_Tmin{0}          =  1.00e+04]   ####\n",
      "##############################################################################################################\n"
     ]
    }
   ],
   "source": [
    "pars = ares.util.ParameterBundle('mirocha2017:base') \\\n",
    "     + ares.util.ParameterBundle('mirocha2018:high')"
   ]
  },
  {
   "cell_type": "markdown",
   "id": "f9daa25f",
   "metadata": {},
   "source": [
    "Parameter bundles are designed to be added together, so as to build-up more complex calculations piece by piece. The above snippet takes the default model from [Mirocha, Furlanetto, & Sun (2017](http://adsabs.harvard.edu/abs/2017MNRAS.464.1365M>) and adds on the default PopIII model from [Mirocha et al. 2018](http://adsabs.harvard.edu/abs/2018MNRAS.478.5591M>). The \"high\" suffix refers to the mass of the PopIII stars -- in this case, high means $\\sim 100 \\ M_{\\odot}$. There are also bundles for \"low\" and \"med\" mass PopIII stars, which just changes the mass (and resultant spectra) according to the [Schaerer (2002)](http://adsabs.harvard.edu/abs/2002A%26A...382...28S>) models. \n",
    "\n",
    "**NOTE:** The ``mirocha2017`` models use some non-standard lookup tables by default. See [Using Data From the Literature](example_litdata) for more info.\n",
    "\n",
    "You'll notice that while the ``mirocha2017:base`` bundle contains parameters for two source populations -- one that provides the UV emission and another that produces X-rays -- the addition of the PopIII bundle adds two more populations, again one each for UV and X-ray. You can customize the properties of these sources further via the following parameters:\n",
    "\n",
    "* ``pop_sfr{2}`` \n",
    "    The typical star formation rate (SFR) in PopIII halos (in $M_{\\odot} \\ \\mathrm{yr}^{-1}$), in a mass-bin-averaged sense (i.e., we assume PopIII star formation occurs in discrete bursts so the SFR in any individual halo is ill-defined).\n",
    "* ``pop_time_limit{2}``\n",
    "    The critical length of the PopIII phase (in Myr).\n",
    "* ``pop_bind_limit{2}`` \n",
    "    The critical binding energy (in erg) at which point halos transition to PopII star formation.\n",
    "* ``pop_temp_limit{2}`` \n",
    "    The critical virial temperature (in K) at which point halos transition to PopII star formation.\n",
    "* ``pop_rad_yield{3}``\n",
    "    The X-ray production efficiency in PopIII halos (in $\\mathrm{erg} \\ \\mathrm{s}^{-1} \\ (M_{\\odot} \\ \\mathrm{yr}^{-1})^{-1}$). \n",
    "\n",
    "**NOTE:** The duration of PopIII in individual halos will be determined by\n",
    "    whichever of ``pop_time_limit``, ``pop_bind_limit``, and ``pop_temp_limit`` results in the smallest value (once converted to mass). \n",
    "    \n",
    "**WARNING:** When ``pop_time_limit`` is small ($t \\lesssim 20$ Myr) the difference between $M_{\\min}$ and $M_{\\max}$ approaches a single grid point in the halo mass function lookup table. As a result, the SFRD may suffer from numerical noise, which slows convergence. \n",
    "    \n",
    "It is possible to use a halo mass-dependent prescription for the PopIII SFR if you'd like. In that case, you'll need to update ``pop_sfr_model{2}`` to be ``sfe-func``. See [More Realistic Galaxy Populations](example_pop_galaxy) for a reminder on how to do that.\n",
    "\n"
   ]
  },
  {
   "cell_type": "markdown",
   "id": "47dbb8dc",
   "metadata": {},
   "source": [
    "### Note on Feedback"
   ]
  },
  {
   "cell_type": "markdown",
   "id": "89b518ed",
   "metadata": {},
   "source": [
    "One of the defining features of PopIII sources is their susceptibility to the global Lyman-Werner (LW) background, which drives up the minimum halo mass for star formation and thus limits the PopIII star formation rate density (SFRD). Because the LW background depends on the SFRD, the introduction of PopIII sources means *ARES* calculations must be performed iteratively. As a result, **you will notice that these models can be quite a bit slower than normal ares calculations (by a factor of a few up to an order of magnitude, typically.**)\n",
    "\n",
    "There is some control, here, however. If you're not looking for much accuracy, you can change the default set of convergence criteria to accelerate things.\n",
    "\n",
    "* ``feedback_LW`` \n",
    "\n",
    "    If ``False``, LW feedback will be turned off.    \n",
    "* ``feedback_LW_mean_err``\n",
    "\n",
    "    If ``True``, calculations will terminate as soon as the mean error in :math:`M_{\\min}` or the PopIII SFRD satisfy the set tolerances (see next two parameters). By default, it is ``False``.\n",
    "* ``feedback_LW_sfrd_rtol``\n",
    "\n",
    "    The relative tolerance needed in order for calculations to terminate. By default, this is ``0.05``.\n",
    "* ``feedback_LW_sfrd_atol`` \n",
    "\n",
    "    The absolute tolerance needed in order for calculations to terminate. By default, this is ``0.0`` (i.e., unused).\n",
    "* ``feedback_LW_maxiter``\n",
    "\n",
    "    Maximum number of iterations allowed. By default, 50.\n",
    "* ``feedback_LW_mean_err``\n",
    "\n",
    "    If ``True``, terminate calculation once *mean* error meets set tolerances. If ``False`` (which is the default), require SFRD and/or $M_{\\min}$ to meet tolerance at all redshifts.\n",
    "* ``feedback_LW_mixup_freq``\n",
    "\n",
    "    Every ``feedback_LW_mixup_freq`` iterations, use average of last two iterations rather than the prediction for the next step. This has been found to help speed-up convergence (see footnote #3 in paper).\n"
   ]
  },
  {
   "cell_type": "markdown",
   "id": "9f1e227c",
   "metadata": {},
   "source": [
    "### Performance Tricks"
   ]
  },
  {
   "cell_type": "markdown",
   "id": "c5078b94",
   "metadata": {},
   "source": [
    "These models can be quite a bit more expensive than usual due to the iterative nature of the computation. To speed things up, you can run a grid of models and then use that grid to supply initial guesses to the solver for subsequent calculations, which generally reduces the number of iterations required dramatically, especially if the grid is finely sampled.\n",
    "\n",
    "**NOTE:** For a more detailed intro to model grids, see :doc:`example_grid`.\n",
    "\n",
    "Let's generate a very sparse grid just to get a feel for how this works."
   ]
  },
  {
   "cell_type": "code",
   "execution_count": null,
   "id": "00c31299",
   "metadata": {},
   "outputs": [
    {
     "name": "stderr",
     "output_type": "stream",
     "text": [
      "\r",
      "grid: N/A% |                                                                                  | ETA:  --:--:-- "
     ]
    },
    {
     "name": "stdout",
     "output_type": "stream",
     "text": [
      "\n",
      "##############################################################################################################\n",
      "####                                           Parameter Bundle                                           ####\n",
      "##############################################################################################################\n",
      "#### UPDATE: Setting pop_Tmin{0}          -> None         [previously pop_Tmin{0}          =  1.00e+04]   ####\n",
      "##############################################################################################################\n",
      "Starting 4-element model grid.\n",
      "Running 4-element model grid.\n",
      "# WARNING: revisit scalability wrt fesc.\n",
      "# WARNING: revisit scalability wrt fesc.\n",
      "# Loaded $ARES/input/inits/inits_planck_TTTEEE_lowl_lowE_best.txt.\n",
      "# WARNING: revisit scalability wrt fesc.\n",
      "# WARNING: revisit scalability wrt fesc.\n",
      "# Loaded $ARES/input/inits/inits_planck_TTTEEE_lowl_lowE_best.txt.\n",
      "# WARNING: revisit scalability wrt fesc.\n",
      "# WARNING: revisit scalability wrt fesc.\n",
      "# Loaded $ARES/input/inits/inits_planck_TTTEEE_lowl_lowE_best.txt.\n",
      "# WARNING: revisit scalability wrt fesc.\n",
      "# WARNING: revisit scalability wrt fesc.\n"
     ]
    },
    {
     "name": "stderr",
     "output_type": "stream",
     "text": [
      "\r",
      "grid:  25% |####################                                                              | ETA:   0:31:22 "
     ]
    },
    {
     "name": "stdout",
     "output_type": "stream",
     "text": [
      "Checkpoint #1: Thu Aug 26 10:17:05 2021\n",
      "# WARNING: revisit scalability wrt fesc.\n",
      "# WARNING: revisit scalability wrt fesc.\n",
      "# Loaded $ARES/input/inits/inits_planck_TTTEEE_lowl_lowE_best.txt.\n",
      "# WARNING: revisit scalability wrt fesc.\n",
      "# WARNING: revisit scalability wrt fesc.\n",
      "# Loaded $ARES/input/inits/inits_planck_TTTEEE_lowl_lowE_best.txt.\n",
      "# WARNING: revisit scalability wrt fesc.\n",
      "# WARNING: revisit scalability wrt fesc.\n",
      "# Loaded $ARES/input/inits/inits_planck_TTTEEE_lowl_lowE_best.txt.\n"
     ]
    }
   ],
   "source": [
    "pars = ares.util.ParameterBundle('mirocha2017:base') \\\n",
    "     + ares.util.ParameterBundle('mirocha2018:high')\n",
    "\n",
    "pars['feedback_LW'] = True\n",
    "pars['feedback_LW_maxiter'] = 3\n",
    "pars['pop_sfr{2}'] = 1e-5\n",
    "pars['pop_time_limit{2}'] = 10.\n",
    "\n",
    "# Track the PopII and III SFRDs and Mmin values separately\n",
    "blobs = ares.util.BlobBundle(**ares.util.ParameterBundle('mirocha2018:csfr_blobs')) \n",
    "\n",
    "pars.update(blobs)\n",
    "\n",
    "# Initialize a ModelGrid object.\n",
    "mg = ares.inference.ModelGrid(**pars)\n",
    "\n",
    "# Just vary one parameter for now.\n",
    "mg.axes = {'pop_time_limit{2}': np.arange(10., 50., 10.)}\n",
    "           \n",
    "mg.run('popIII_grid', clobber=True, save_freq=1)"
   ]
  },
  {
   "cell_type": "markdown",
   "id": "fa8bb5ed",
   "metadata": {},
   "source": [
    "To speed this up, you could loosen the tolerance, e.g., ``feedback_LW_sfrd_rtol=0.2`` instead of the default ``feedback_LW_sfrd_rtol=0.05``.\n",
    "\n",
    "**NOTE:** You can enter the above in Python script and invoke with ``mpirun`` if you've got MPI and *mpi4py* installed.\n",
    "\n",
    "\n",
    "To verify that this grid has run successfully, you could do something like"
   ]
  },
  {
   "cell_type": "code",
   "execution_count": 4,
   "id": "c4e00720",
   "metadata": {},
   "outputs": [
    {
     "name": "stdout",
     "output_type": "stream",
     "text": [
      "\n",
      "##############################################################################################################\n",
      "####                                         Analysis: Model Set                                          ####\n",
      "##############################################################################################################\n",
      "#### ---------------------------------------------------------------------------------------------------- ####\n",
      "#### Basic Information                                                                                    ####\n",
      "#### ---------------------------------------------------------------------------------------------------- ####\n",
      "#### path        : ./                                                                                     ####\n",
      "#### prefix      : popIII_grid                                                                            ####\n",
      "#### N-d         : 1                                                                                      ####\n",
      "#### ---------------------------------------------------------------------------------------------------- ####\n",
      "#### param    #00: pop_time_limit{2}                                                                      ####\n",
      "##############################################################################################################\n",
      "\n",
      "# Loaded popIII_grid.000.blob_1d.popIII_sfrd_tot.pkl\n"
     ]
    },
    {
     "data": {
      "text/plain": [
       "(1e-08, 0.01)"
      ]
     },
     "execution_count": 4,
     "metadata": {},
     "output_type": "execute_result"
    },
    {
     "data": {
      "image/png": "[encoded data removed]",
      "text/plain": [
       "<Figure size 432x288 with 1 Axes>"
      ]
     },
     "metadata": {
      "needs_background": "light"
     },
     "output_type": "display_data"
    },
    {
     "data": {
      "image/png": "[encoded data removed]",
      "text/plain": [
       "<Figure size 432x288 with 1 Axes>"
      ]
     },
     "metadata": {
      "needs_background": "light"
     },
     "output_type": "display_data"
    }
   ],
   "source": [
    "anl = ares.analysis.ModelSet('popIII_grid')\n",
    "\n",
    "# Plot the time_limit vs. SFRD(z=15)\n",
    "from ares.physics.Constants import rhodot_cgs\n",
    "ax1 = anl.Scatter(['pop_time_limit{2}', 'popIII_sfrd_tot'], \n",
    "    ivar=[None, 15.], multiplier=[1, rhodot_cgs], fig=1)\n",
    "\n",
    "ax1.set_yscale('log')\n",
    "ax1.set_ylim(1e-8, 1)\n",
    "\n",
    "# Just show all the PopIII SFRDs\n",
    "ax2 = anl.ReconstructedFunction('popIII_sfrd_tot', samples='all', color='b', fig=2, multiplier=[rhodot_cgs])\n",
    "ax2.set_yscale('log')\n",
    "ax2.set_ylim(1e-8, 1e-2)"
   ]
  },
  {
   "cell_type": "markdown",
   "id": "24893829",
   "metadata": {},
   "source": [
    "Now, to use this model grid for further calculations, you can simply do:"
   ]
  },
  {
   "cell_type": "code",
   "execution_count": 5,
   "id": "dd1d1660",
   "metadata": {},
   "outputs": [
    {
     "name": "stdout",
     "output_type": "stream",
     "text": [
      "\n",
      "##############################################################################################################\n",
      "####                                           Parameter Bundle                                           ####\n",
      "##############################################################################################################\n",
      "#### UPDATE: Setting pop_Tmin{0}          -> None         [previously pop_Tmin{0}          =  1.00e+04]   ####\n",
      "##############################################################################################################\n",
      "# Loaded $ARES/input/inits/inits_planck_TTTEEE_lowl_lowE_best.txt.\n",
      "\n",
      "##############################################################################################################\n",
      "####                                         Analysis: Model Set                                          ####\n",
      "##############################################################################################################\n",
      "#### ---------------------------------------------------------------------------------------------------- ####\n",
      "#### Basic Information                                                                                    ####\n",
      "#### ---------------------------------------------------------------------------------------------------- ####\n",
      "#### path        : ./                                                                                     ####\n",
      "#### prefix      : popIII_grid                                                                            ####\n",
      "#### N-d         : 1                                                                                      ####\n",
      "#### ---------------------------------------------------------------------------------------------------- ####\n",
      "#### param    #00: pop_time_limit{2}                                                                      ####\n",
      "##############################################################################################################\n",
      "\n",
      "# Loaded popIII_grid.000.blob_1d.popIII_Mmin.pkl\n",
      "# Loaded $ARES/input/hmf/hmf_ST_planck_TTTEEE_lowl_lowE_best_logM_1400_4-18_z_1201_0-60.hdf5.\n",
      "# Loaded $ARES/input/hmf/hmf_ST_planck_TTTEEE_lowl_lowE_best_logM_1400_4-18_z_1201_0-60.hdf5.\n",
      "\n",
      "##############################################################################################################\n",
      "####                                      ARES Simulation: Overview                                       ####\n",
      "##############################################################################################################\n",
      "#### ---------------------------------------------------------------------------------------------------- ####\n",
      "#### Source Populations                                                                                   ####\n",
      "#### ---------------------------------------------------------------------------------------------------- ####\n",
      "####               sfrd      sed    radio    O/IR    Ly-a     LW     Ly-C   X-ray    RTE                  ####\n",
      "#### pop #0  :   sfe-func    yes                      x       x       x               x                   ####\n",
      "#### pop #1  : link:sfrd:0   yes                                              x       x                   ####\n",
      "#### pop #2  :   sfr-func    yes                      x       x       x               x                   ####\n",
      "#### pop #3  : link:sfrd:2   yes                                              x       x                   ####\n",
      "#### ---------------------------------------------------------------------------------------------------- ####\n",
      "#### Notes                                                                                                ####\n",
      "#### ---------------------------------------------------------------------------------------------------- ####\n",
      "#### + pop_calib_lum != None, which means changes to pop_Z will *not* affect UVLF.                        ####\n",
      "####   Set pop_calib_lum=None to restore \"normal\" behavior (see S3.4 in Mirocha et al. 2017).             ####\n",
      "#### ---------------------------------------------------------------------------------------------------- ####\n",
      "#### Physics                                                                                              ####\n",
      "#### ---------------------------------------------------------------------------------------------------- ####\n",
      "#### cgm_initial_temperature        : 20000                                                               ####\n",
      "#### clumping_factor                : 3                                                                   ####\n",
      "#### secondary_ionization           : 3                                                                   ####\n",
      "#### approx_Salpha                  : 3                                                                   ####\n",
      "#### include_He                     : True                                                                ####\n",
      "#### feedback_LW                    : True                                                                ####\n",
      "#### feedback_LW_Mmin               : visbal2014                                                          ####\n",
      "#### feedback_LW_fsh                : None                                                                ####\n",
      "##############################################################################################################\n",
      "# Loaded $ARES/input/bpass_v1/SEDS/sed.bpass.constant.nocont.sin.z020\n",
      "# WARNING: revisit scalability wrt fesc.\n",
      "# WARNING: revisit scalability wrt fesc.\n",
      "# Loaded /Users/jordanmirocha/Dropbox/work/mods/ares/input/optical_depth/optical_depth_planck_TTTEEE_lowl_lowE_best_He_1000x2158_z_5-60_logE_2.3-4.5.hdf5.\n",
      "# Loaded /Users/jordanmirocha/Dropbox/work/mods/ares/input/optical_depth/optical_depth_planck_TTTEEE_lowl_lowE_best_He_1000x2158_z_5-60_logE_2.3-4.5.hdf5.\n",
      "# LWB cycle #1 complete.\n",
      "# Loaded $ARES/input/inits/inits_planck_TTTEEE_lowl_lowE_best.txt.\n",
      "# Loaded $ARES/input/hmf/hmf_ST_planck_TTTEEE_lowl_lowE_best_logM_1400_4-18_z_1201_0-60.hdf5.\n",
      "# Loaded $ARES/input/hmf/hmf_ST_planck_TTTEEE_lowl_lowE_best_logM_1400_4-18_z_1201_0-60.hdf5.\n",
      "# Loaded $ARES/input/bpass_v1/SEDS/sed.bpass.constant.nocont.sin.z020\n",
      "# WARNING: revisit scalability wrt fesc.\n",
      "# WARNING: revisit scalability wrt fesc.\n",
      "# Loaded /Users/jordanmirocha/Dropbox/work/mods/ares/input/optical_depth/optical_depth_planck_TTTEEE_lowl_lowE_best_He_1000x2158_z_5-60_logE_2.3-4.5.hdf5.\n",
      "# Loaded /Users/jordanmirocha/Dropbox/work/mods/ares/input/optical_depth/optical_depth_planck_TTTEEE_lowl_lowE_best_He_1000x2158_z_5-60_logE_2.3-4.5.hdf5.\n",
      "# LWB cycle #2 complete: mean_err=3.41e-02, max_err=5.44e-01, z(max_err)=9.5\n",
      "# Loaded $ARES/input/inits/inits_planck_TTTEEE_lowl_lowE_best.txt.\n",
      "# Loaded $ARES/input/hmf/hmf_ST_planck_TTTEEE_lowl_lowE_best_logM_1400_4-18_z_1201_0-60.hdf5.\n",
      "# Loaded $ARES/input/hmf/hmf_ST_planck_TTTEEE_lowl_lowE_best_logM_1400_4-18_z_1201_0-60.hdf5.\n",
      "# Loaded $ARES/input/bpass_v1/SEDS/sed.bpass.constant.nocont.sin.z020\n",
      "# WARNING: revisit scalability wrt fesc.\n",
      "# WARNING: revisit scalability wrt fesc.\n",
      "# Loaded /Users/jordanmirocha/Dropbox/work/mods/ares/input/optical_depth/optical_depth_planck_TTTEEE_lowl_lowE_best_He_1000x2158_z_5-60_logE_2.3-4.5.hdf5.\n",
      "# Loaded /Users/jordanmirocha/Dropbox/work/mods/ares/input/optical_depth/optical_depth_planck_TTTEEE_lowl_lowE_best_He_1000x2158_z_5-60_logE_2.3-4.5.hdf5.\n",
      "# LWB cycle #3 complete: mean_err=1.15e-02, max_err=3.96e-01, z(max_err)=9.3\n",
      "# Loaded $ARES/input/inits/inits_planck_TTTEEE_lowl_lowE_best.txt.\n",
      "# Loaded $ARES/input/hmf/hmf_ST_planck_TTTEEE_lowl_lowE_best_logM_1400_4-18_z_1201_0-60.hdf5.\n",
      "# Loaded $ARES/input/hmf/hmf_ST_planck_TTTEEE_lowl_lowE_best_logM_1400_4-18_z_1201_0-60.hdf5.\n",
      "# Loaded $ARES/input/bpass_v1/SEDS/sed.bpass.constant.nocont.sin.z020\n",
      "# WARNING: revisit scalability wrt fesc.\n",
      "# WARNING: revisit scalability wrt fesc.\n",
      "# Loaded /Users/jordanmirocha/Dropbox/work/mods/ares/input/optical_depth/optical_depth_planck_TTTEEE_lowl_lowE_best_He_1000x2158_z_5-60_logE_2.3-4.5.hdf5.\n",
      "# Loaded /Users/jordanmirocha/Dropbox/work/mods/ares/input/optical_depth/optical_depth_planck_TTTEEE_lowl_lowE_best_He_1000x2158_z_5-60_logE_2.3-4.5.hdf5.\n",
      "# LWB cycle #4 complete: mean_err=4.62e-03, max_err=1.93e-01, z(max_err)=9.3\n",
      "# Loaded $ARES/input/inits/inits_planck_TTTEEE_lowl_lowE_best.txt.\n"
     ]
    },
    {
     "name": "stdout",
     "output_type": "stream",
     "text": [
      "# Loaded $ARES/input/hmf/hmf_ST_planck_TTTEEE_lowl_lowE_best_logM_1400_4-18_z_1201_0-60.hdf5.\n",
      "# Loaded $ARES/input/hmf/hmf_ST_planck_TTTEEE_lowl_lowE_best_logM_1400_4-18_z_1201_0-60.hdf5.\n",
      "# Loaded $ARES/input/bpass_v1/SEDS/sed.bpass.constant.nocont.sin.z020\n",
      "# WARNING: revisit scalability wrt fesc.\n",
      "# WARNING: revisit scalability wrt fesc.\n",
      "# Loaded /Users/jordanmirocha/Dropbox/work/mods/ares/input/optical_depth/optical_depth_planck_TTTEEE_lowl_lowE_best_He_1000x2158_z_5-60_logE_2.3-4.5.hdf5.\n",
      "# Loaded /Users/jordanmirocha/Dropbox/work/mods/ares/input/optical_depth/optical_depth_planck_TTTEEE_lowl_lowE_best_He_1000x2158_z_5-60_logE_2.3-4.5.hdf5.\n",
      "# LWB cycle #5 complete: mean_err=2.05e-03, max_err=1.00e-01, z(max_err)=9.3\n",
      "# Loaded $ARES/input/inits/inits_planck_TTTEEE_lowl_lowE_best.txt.\n",
      "# Loaded $ARES/input/hmf/hmf_ST_planck_TTTEEE_lowl_lowE_best_logM_1400_4-18_z_1201_0-60.hdf5.\n",
      "# Loaded $ARES/input/hmf/hmf_ST_planck_TTTEEE_lowl_lowE_best_logM_1400_4-18_z_1201_0-60.hdf5.\n",
      "# Loaded $ARES/input/bpass_v1/SEDS/sed.bpass.constant.nocont.sin.z020\n",
      "# WARNING: revisit scalability wrt fesc.\n",
      "# WARNING: revisit scalability wrt fesc.\n",
      "# Loaded /Users/jordanmirocha/Dropbox/work/mods/ares/input/optical_depth/optical_depth_planck_TTTEEE_lowl_lowE_best_He_1000x2158_z_5-60_logE_2.3-4.5.hdf5.\n",
      "# Loaded /Users/jordanmirocha/Dropbox/work/mods/ares/input/optical_depth/optical_depth_planck_TTTEEE_lowl_lowE_best_He_1000x2158_z_5-60_logE_2.3-4.5.hdf5.\n",
      "# Loaded $ARES/input/inits/inits_planck_TTTEEE_lowl_lowE_best.txt.\n",
      "# Loaded $ARES/input/hmf/hmf_ST_planck_TTTEEE_lowl_lowE_best_logM_1400_4-18_z_1201_0-60.hdf5.\n",
      "# Loaded $ARES/input/hmf/hmf_ST_planck_TTTEEE_lowl_lowE_best_logM_1400_4-18_z_1201_0-60.hdf5.\n",
      "# Loaded $ARES/input/bpass_v1/SEDS/sed.bpass.constant.nocont.sin.z020\n",
      "# WARNING: revisit scalability wrt fesc.\n",
      "# WARNING: revisit scalability wrt fesc.\n",
      "# Loaded /Users/jordanmirocha/Dropbox/work/mods/ares/input/optical_depth/optical_depth_planck_TTTEEE_lowl_lowE_best_He_1000x2158_z_5-60_logE_2.3-4.5.hdf5.\n",
      "# Loaded /Users/jordanmirocha/Dropbox/work/mods/ares/input/optical_depth/optical_depth_planck_TTTEEE_lowl_lowE_best_He_1000x2158_z_5-60_logE_2.3-4.5.hdf5.\n"
     ]
    },
    {
     "name": "stderr",
     "output_type": "stream",
     "text": [
      "gs-21cm: 100% |###############################################################################| Time:  0:00:30 \n"
     ]
    }
   ],
   "source": [
    "pars = ares.util.ParameterBundle('mirocha2017:base') \\\n",
    "     + ares.util.ParameterBundle('mirocha2018:high')\n",
    "\n",
    "# Choose a value not represented in the grid.\n",
    "pars['pop_time_limit{2}'] = 12.\n",
    "\n",
    "# These are new!\n",
    "pars['feedback_LW_guesses'] = 'popIII_grid'\n",
    "pars['feedback_LW_guesses_from'] = ['pop_time_limit'] # no ID number needed\n",
    "    \n",
    "sim = ares.simulations.Global21cm(**pars)\n",
    "sim.run()"
   ]
  },
  {
   "cell_type": "markdown",
   "id": "7707bdc2",
   "metadata": {},
   "source": [
    "*ARES* will initialize a ``ModelGrid`` object using the ``popIII_grid*`` files in the current working directory. Importantly, we've told *ARES* to use the parameter ``pop_time_limit`` to set initial guesses, which seems obvious here but in general we could have more parameters in the grid and we could opt to only use a subset here.\n",
    "\n",
    "If all goes according to plan, *ARES* will use the ``pop_time_limit{2}=10`` grid point, pulling the result for the minimum mass evolution (which we saved as a blob) and using it as the initial guess. This should result in a SFRD very similar, but not identical to, the ``pop_time_limit{2}=10`` model in our grid. And, most importantly, whereas the ``pop_time_limit{2}=10`` model took 20 iterations to complete, the ``pop_time_limit{2}=12'' model should only take 10 (with default tolerances).\n",
    "\n",
    "This kind of thing can be very useful if you want to vary parameters that do not affect the PopIII SFRD. In fact this is precisely what we did in `Mirocha et al. (2018) <http://adsabs.harvard.edu/abs/2018MNRAS.478.5591M>`_. In this case, we knew ahead of time that we would only survey the *exact* models represented in the grid, so we set:"
   ]
  },
  {
   "cell_type": "code",
   "execution_count": 6,
   "id": "b96fb60f",
   "metadata": {},
   "outputs": [],
   "source": [
    "pars['feedback_LW_guesses_perfect'] = True"
   ]
  },
  {
   "cell_type": "markdown",
   "id": "0f44182b",
   "metadata": {},
   "source": [
    "which told *ARES* not just to use results from the ``ModelGrid`` as first guesses, but to assume they are perfect, in which case no further iteration by the solver is required."
   ]
  }
 ],
 "metadata": {
  "kernelspec": {
   "display_name": "Python 3 (ipykernel)",
   "language": "python",
   "name": "python3"
  },
  "language_info": {
   "codemirror_mode": {
    "name": "ipython",
    "version": 3
   },
   "file_extension": ".py",
   "mimetype": "text/x-python",
   "name": "python",
   "nbconvert_exporter": "python",
   "pygments_lexer": "ipython3",
   "version": "3.7.6"
  }
 },
 "nbformat": 4,
 "nbformat_minor": 5
}
